{
 "cells": [
  {
   "cell_type": "code",
   "execution_count": 1,
   "id": "99ef248d",
   "metadata": {
    "_cell_guid": "b1076dfc-b9ad-4769-8c92-a6c4dae69d19",
    "_uuid": "8f2839f25d086af736a60e9eeb907d3b93b6e0e5",
    "execution": {
     "iopub.execute_input": "2024-04-09T08:25:42.098243Z",
     "iopub.status.busy": "2024-04-09T08:25:42.097771Z",
     "iopub.status.idle": "2024-04-09T08:25:43.260000Z",
     "shell.execute_reply": "2024-04-09T08:25:43.258431Z"
    },
    "papermill": {
     "duration": 1.177889,
     "end_time": "2024-04-09T08:25:43.263244",
     "exception": false,
     "start_time": "2024-04-09T08:25:42.085355",
     "status": "completed"
    },
    "tags": []
   },
   "outputs": [
    {
     "name": "stdout",
     "output_type": "stream",
     "text": [
      "/kaggle/input/ecommerce-users-of-a-french-c2c-fashion-store/comparison_of_sellers_by_gender_and_country.csv\n",
      "/kaggle/input/ecommerce-users-of-a-french-c2c-fashion-store/6M-0K-99K.users.dataset.public.csv\n",
      "/kaggle/input/ecommerce-users-of-a-french-c2c-fashion-store/users.6M0xxK.2020.public.csv\n",
      "/kaggle/input/ecommerce-users-of-a-french-c2c-fashion-store/countries_with_top_sellers_fashion_c2c.csv\n",
      "/kaggle/input/ecommerce-users-of-a-french-c2c-fashion-store/users.6M0xxK.2024.public.csv\n"
     ]
    }
   ],
   "source": [
    "# This Python 3 environment comes with many helpful analytics libraries installed\n",
    "# It is defined by the kaggle/python Docker image: https://github.com/kaggle/docker-python\n",
    "# For example, here's several helpful packages to load\n",
    "\n",
    "import numpy as np # linear algebra\n",
    "import pandas as pd # data processing, CSV file I/O (e.g. pd.read_csv)\n",
    "\n",
    "# Input data files are available in the read-only \"../input/\" directory\n",
    "# For example, running this (by clicking run or pressing Shift+Enter) will list all files under the input directory\n",
    "\n",
    "import os\n",
    "for dirname, _, filenames in os.walk('/kaggle/input'):\n",
    "    for filename in filenames:\n",
    "        print(os.path.join(dirname, filename))\n",
    "\n",
    "# You can write up to 20GB to the current directory (/kaggle/working/) that gets preserved as output when you create a version using \"Save & Run All\" \n",
    "# You can also write temporary files to /kaggle/temp/, but they won't be saved outside of the current session"
   ]
  },
  {
   "cell_type": "code",
   "execution_count": 2,
   "id": "496ed735",
   "metadata": {
    "execution": {
     "iopub.execute_input": "2024-04-09T08:25:43.284735Z",
     "iopub.status.busy": "2024-04-09T08:25:43.284089Z",
     "iopub.status.idle": "2024-04-09T08:25:44.017332Z",
     "shell.execute_reply": "2024-04-09T08:25:44.015666Z"
    },
    "papermill": {
     "duration": 0.747456,
     "end_time": "2024-04-09T08:25:44.020275",
     "exception": false,
     "start_time": "2024-04-09T08:25:43.272819",
     "status": "completed"
    },
    "tags": []
   },
   "outputs": [
    {
     "data": {
      "text/html": [
       "<div>\n",
       "<style scoped>\n",
       "    .dataframe tbody tr th:only-of-type {\n",
       "        vertical-align: middle;\n",
       "    }\n",
       "\n",
       "    .dataframe tbody tr th {\n",
       "        vertical-align: top;\n",
       "    }\n",
       "\n",
       "    .dataframe thead th {\n",
       "        text-align: right;\n",
       "    }\n",
       "</style>\n",
       "<table border=\"1\" class=\"dataframe\">\n",
       "  <thead>\n",
       "    <tr style=\"text-align: right;\">\n",
       "      <th></th>\n",
       "      <th>identifierHash</th>\n",
       "      <th>type</th>\n",
       "      <th>country</th>\n",
       "      <th>language</th>\n",
       "      <th>socialNbFollowers</th>\n",
       "      <th>socialNbFollows</th>\n",
       "      <th>socialProductsLiked</th>\n",
       "      <th>productsListed</th>\n",
       "      <th>productsSold</th>\n",
       "      <th>productsPassRate</th>\n",
       "      <th>...</th>\n",
       "      <th>civilityTitle</th>\n",
       "      <th>hasAnyApp</th>\n",
       "      <th>hasAndroidApp</th>\n",
       "      <th>hasIosApp</th>\n",
       "      <th>hasProfilePicture</th>\n",
       "      <th>daysSinceLastLogin</th>\n",
       "      <th>seniority</th>\n",
       "      <th>seniorityAsMonths</th>\n",
       "      <th>seniorityAsYears</th>\n",
       "      <th>countryCode</th>\n",
       "    </tr>\n",
       "  </thead>\n",
       "  <tbody>\n",
       "    <tr>\n",
       "      <th>0</th>\n",
       "      <td>-1097895247965112460</td>\n",
       "      <td>user</td>\n",
       "      <td>Royaume-Uni</td>\n",
       "      <td>en</td>\n",
       "      <td>147</td>\n",
       "      <td>10</td>\n",
       "      <td>77</td>\n",
       "      <td>26</td>\n",
       "      <td>174</td>\n",
       "      <td>74.0</td>\n",
       "      <td>...</td>\n",
       "      <td>mr</td>\n",
       "      <td>True</td>\n",
       "      <td>False</td>\n",
       "      <td>True</td>\n",
       "      <td>True</td>\n",
       "      <td>11</td>\n",
       "      <td>3196</td>\n",
       "      <td>106.53</td>\n",
       "      <td>8.88</td>\n",
       "      <td>gb</td>\n",
       "    </tr>\n",
       "    <tr>\n",
       "      <th>1</th>\n",
       "      <td>2347567364561867620</td>\n",
       "      <td>user</td>\n",
       "      <td>Monaco</td>\n",
       "      <td>en</td>\n",
       "      <td>167</td>\n",
       "      <td>8</td>\n",
       "      <td>2</td>\n",
       "      <td>19</td>\n",
       "      <td>170</td>\n",
       "      <td>99.0</td>\n",
       "      <td>...</td>\n",
       "      <td>mrs</td>\n",
       "      <td>True</td>\n",
       "      <td>False</td>\n",
       "      <td>True</td>\n",
       "      <td>True</td>\n",
       "      <td>12</td>\n",
       "      <td>3204</td>\n",
       "      <td>106.80</td>\n",
       "      <td>8.90</td>\n",
       "      <td>mc</td>\n",
       "    </tr>\n",
       "    <tr>\n",
       "      <th>2</th>\n",
       "      <td>6870940546848049750</td>\n",
       "      <td>user</td>\n",
       "      <td>France</td>\n",
       "      <td>fr</td>\n",
       "      <td>137</td>\n",
       "      <td>13</td>\n",
       "      <td>60</td>\n",
       "      <td>33</td>\n",
       "      <td>163</td>\n",
       "      <td>94.0</td>\n",
       "      <td>...</td>\n",
       "      <td>mrs</td>\n",
       "      <td>True</td>\n",
       "      <td>False</td>\n",
       "      <td>True</td>\n",
       "      <td>False</td>\n",
       "      <td>11</td>\n",
       "      <td>3203</td>\n",
       "      <td>106.77</td>\n",
       "      <td>8.90</td>\n",
       "      <td>fr</td>\n",
       "    </tr>\n",
       "    <tr>\n",
       "      <th>3</th>\n",
       "      <td>-4640272621319568052</td>\n",
       "      <td>user</td>\n",
       "      <td>Etats-Unis</td>\n",
       "      <td>en</td>\n",
       "      <td>131</td>\n",
       "      <td>10</td>\n",
       "      <td>14</td>\n",
       "      <td>122</td>\n",
       "      <td>152</td>\n",
       "      <td>92.0</td>\n",
       "      <td>...</td>\n",
       "      <td>mrs</td>\n",
       "      <td>True</td>\n",
       "      <td>False</td>\n",
       "      <td>True</td>\n",
       "      <td>False</td>\n",
       "      <td>12</td>\n",
       "      <td>3198</td>\n",
       "      <td>106.60</td>\n",
       "      <td>8.88</td>\n",
       "      <td>us</td>\n",
       "    </tr>\n",
       "    <tr>\n",
       "      <th>4</th>\n",
       "      <td>-5175830994878542658</td>\n",
       "      <td>user</td>\n",
       "      <td>Etats-Unis</td>\n",
       "      <td>en</td>\n",
       "      <td>167</td>\n",
       "      <td>8</td>\n",
       "      <td>0</td>\n",
       "      <td>25</td>\n",
       "      <td>125</td>\n",
       "      <td>100.0</td>\n",
       "      <td>...</td>\n",
       "      <td>mrs</td>\n",
       "      <td>False</td>\n",
       "      <td>False</td>\n",
       "      <td>False</td>\n",
       "      <td>True</td>\n",
       "      <td>22</td>\n",
       "      <td>2854</td>\n",
       "      <td>95.13</td>\n",
       "      <td>7.93</td>\n",
       "      <td>us</td>\n",
       "    </tr>\n",
       "  </tbody>\n",
       "</table>\n",
       "<p>5 rows × 24 columns</p>\n",
       "</div>"
      ],
      "text/plain": [
       "        identifierHash  type      country language  socialNbFollowers  \\\n",
       "0 -1097895247965112460  user  Royaume-Uni       en                147   \n",
       "1  2347567364561867620  user       Monaco       en                167   \n",
       "2  6870940546848049750  user       France       fr                137   \n",
       "3 -4640272621319568052  user   Etats-Unis       en                131   \n",
       "4 -5175830994878542658  user   Etats-Unis       en                167   \n",
       "\n",
       "   socialNbFollows  socialProductsLiked  productsListed  productsSold  \\\n",
       "0               10                   77              26           174   \n",
       "1                8                    2              19           170   \n",
       "2               13                   60              33           163   \n",
       "3               10                   14             122           152   \n",
       "4                8                    0              25           125   \n",
       "\n",
       "   productsPassRate  ...  civilityTitle  hasAnyApp hasAndroidApp  hasIosApp  \\\n",
       "0              74.0  ...             mr       True         False       True   \n",
       "1              99.0  ...            mrs       True         False       True   \n",
       "2              94.0  ...            mrs       True         False       True   \n",
       "3              92.0  ...            mrs       True         False       True   \n",
       "4             100.0  ...            mrs      False         False      False   \n",
       "\n",
       "  hasProfilePicture  daysSinceLastLogin  seniority  seniorityAsMonths  \\\n",
       "0              True                  11       3196             106.53   \n",
       "1              True                  12       3204             106.80   \n",
       "2             False                  11       3203             106.77   \n",
       "3             False                  12       3198             106.60   \n",
       "4              True                  22       2854              95.13   \n",
       "\n",
       "   seniorityAsYears  countryCode  \n",
       "0              8.88           gb  \n",
       "1              8.90           mc  \n",
       "2              8.90           fr  \n",
       "3              8.88           us  \n",
       "4              7.93           us  \n",
       "\n",
       "[5 rows x 24 columns]"
      ]
     },
     "execution_count": 2,
     "metadata": {},
     "output_type": "execute_result"
    }
   ],
   "source": [
    "import numpy as np \n",
    "import pandas as pd \n",
    "\n",
    "db = pd.read_csv('/kaggle/input/ecommerce-users-of-a-french-c2c-fashion-store/6M-0K-99K.users.dataset.public.csv')\n",
    "db.head()"
   ]
  },
  {
   "cell_type": "code",
   "execution_count": 3,
   "id": "503e49cc",
   "metadata": {
    "execution": {
     "iopub.execute_input": "2024-04-09T08:25:44.043213Z",
     "iopub.status.busy": "2024-04-09T08:25:44.042744Z",
     "iopub.status.idle": "2024-04-09T08:25:44.144167Z",
     "shell.execute_reply": "2024-04-09T08:25:44.143036Z"
    },
    "papermill": {
     "duration": 0.116987,
     "end_time": "2024-04-09T08:25:44.147134",
     "exception": false,
     "start_time": "2024-04-09T08:25:44.030147",
     "status": "completed"
    },
    "tags": []
   },
   "outputs": [
    {
     "name": "stdout",
     "output_type": "stream",
     "text": [
      "<class 'pandas.core.frame.DataFrame'>\n",
      "RangeIndex: 98913 entries, 0 to 98912\n",
      "Data columns (total 24 columns):\n",
      " #   Column               Non-Null Count  Dtype  \n",
      "---  ------               --------------  -----  \n",
      " 0   identifierHash       98913 non-null  int64  \n",
      " 1   type                 98913 non-null  object \n",
      " 2   country              98913 non-null  object \n",
      " 3   language             98913 non-null  object \n",
      " 4   socialNbFollowers    98913 non-null  int64  \n",
      " 5   socialNbFollows      98913 non-null  int64  \n",
      " 6   socialProductsLiked  98913 non-null  int64  \n",
      " 7   productsListed       98913 non-null  int64  \n",
      " 8   productsSold         98913 non-null  int64  \n",
      " 9   productsPassRate     98913 non-null  float64\n",
      " 10  productsWished       98913 non-null  int64  \n",
      " 11  productsBought       98913 non-null  int64  \n",
      " 12  gender               98913 non-null  object \n",
      " 13  civilityGenderId     98913 non-null  int64  \n",
      " 14  civilityTitle        98913 non-null  object \n",
      " 15  hasAnyApp            98913 non-null  bool   \n",
      " 16  hasAndroidApp        98913 non-null  bool   \n",
      " 17  hasIosApp            98913 non-null  bool   \n",
      " 18  hasProfilePicture    98913 non-null  bool   \n",
      " 19  daysSinceLastLogin   98913 non-null  int64  \n",
      " 20  seniority            98913 non-null  int64  \n",
      " 21  seniorityAsMonths    98913 non-null  float64\n",
      " 22  seniorityAsYears     98913 non-null  float64\n",
      " 23  countryCode          98913 non-null  object \n",
      "dtypes: bool(4), float64(3), int64(11), object(6)\n",
      "memory usage: 15.5+ MB\n"
     ]
    }
   ],
   "source": [
    "db.info()\n"
   ]
  },
  {
   "cell_type": "code",
   "execution_count": 4,
   "id": "474f1d98",
   "metadata": {
    "execution": {
     "iopub.execute_input": "2024-04-09T08:25:44.169317Z",
     "iopub.status.busy": "2024-04-09T08:25:44.168468Z",
     "iopub.status.idle": "2024-04-09T08:25:44.247056Z",
     "shell.execute_reply": "2024-04-09T08:25:44.245850Z"
    },
    "papermill": {
     "duration": 0.093063,
     "end_time": "2024-04-09T08:25:44.250063",
     "exception": false,
     "start_time": "2024-04-09T08:25:44.157000",
     "status": "completed"
    },
    "tags": []
   },
   "outputs": [
    {
     "data": {
      "text/plain": [
       "identifierHash         0\n",
       "type                   0\n",
       "country                0\n",
       "language               0\n",
       "socialNbFollowers      0\n",
       "socialNbFollows        0\n",
       "socialProductsLiked    0\n",
       "productsListed         0\n",
       "productsSold           0\n",
       "productsPassRate       0\n",
       "productsWished         0\n",
       "productsBought         0\n",
       "gender                 0\n",
       "civilityGenderId       0\n",
       "civilityTitle          0\n",
       "hasAnyApp              0\n",
       "hasAndroidApp          0\n",
       "hasIosApp              0\n",
       "hasProfilePicture      0\n",
       "daysSinceLastLogin     0\n",
       "seniority              0\n",
       "seniorityAsMonths      0\n",
       "seniorityAsYears       0\n",
       "countryCode            0\n",
       "dtype: int64"
      ]
     },
     "execution_count": 4,
     "metadata": {},
     "output_type": "execute_result"
    }
   ],
   "source": [
    "#checking if there is any missing value\n",
    "db.isna().sum()"
   ]
  },
  {
   "cell_type": "code",
   "execution_count": 5,
   "id": "ccef461d",
   "metadata": {
    "execution": {
     "iopub.execute_input": "2024-04-09T08:25:44.272949Z",
     "iopub.status.busy": "2024-04-09T08:25:44.272094Z",
     "iopub.status.idle": "2024-04-09T08:25:44.635247Z",
     "shell.execute_reply": "2024-04-09T08:25:44.633481Z"
    },
    "papermill": {
     "duration": 0.378768,
     "end_time": "2024-04-09T08:25:44.638879",
     "exception": false,
     "start_time": "2024-04-09T08:25:44.260111",
     "status": "completed"
    },
    "tags": []
   },
   "outputs": [
    {
     "data": {
      "text/plain": [
       "Text(0.5, 1.0, 'hasAnyApp Bins')"
      ]
     },
     "execution_count": 5,
     "metadata": {},
     "output_type": "execute_result"
    },
    {
     "data": {
      "image/png": "[encoded data removed]",
      "text/plain": [
       "<Figure size 640x480 with 1 Axes>"
      ]
     },
     "metadata": {},
     "output_type": "display_data"
    }
   ],
   "source": [
    "%matplotlib inline\n",
    "import matplotlib as plt\n",
    "from matplotlib import pyplot\n",
    "group_names=['False','True']\n",
    "q=pyplot.bar(group_names, db['hasAnyApp'].value_counts())\n",
    "\n",
    "# set x/y labels and plot title\n",
    "plt.pyplot.xlabel(\"hasAnyApp\")\n",
    "plt.pyplot.ylabel(\"Count\")\n",
    "plt.pyplot.title(\"hasAnyApp Bins\")"
   ]
  },
  {
   "cell_type": "code",
   "execution_count": 6,
   "id": "ad2560b7",
   "metadata": {
    "execution": {
     "iopub.execute_input": "2024-04-09T08:25:44.662573Z",
     "iopub.status.busy": "2024-04-09T08:25:44.662050Z",
     "iopub.status.idle": "2024-04-09T08:25:44.705149Z",
     "shell.execute_reply": "2024-04-09T08:25:44.703660Z"
    },
    "papermill": {
     "duration": 0.058293,
     "end_time": "2024-04-09T08:25:44.707845",
     "exception": false,
     "start_time": "2024-04-09T08:25:44.649552",
     "status": "completed"
    },
    "tags": []
   },
   "outputs": [
    {
     "name": "stderr",
     "output_type": "stream",
     "text": [
      "/tmp/ipykernel_18/3675444363.py:2: FutureWarning: The provided callable <function sum at 0x7e30fc123520> is currently using SeriesGroupBy.sum. In a future version of pandas, the provided callable will be used directly. To keep current behavior pass the string \"sum\" instead.\n",
      "  df_group_two = df_group_two.groupby(['hasAnyApp'],as_index=False).agg([np.sum,np.mean])\n",
      "/tmp/ipykernel_18/3675444363.py:2: FutureWarning: The provided callable <function mean at 0x7e30fc1504c0> is currently using SeriesGroupBy.mean. In a future version of pandas, the provided callable will be used directly. To keep current behavior pass the string \"mean\" instead.\n",
      "  df_group_two = df_group_two.groupby(['hasAnyApp'],as_index=False).agg([np.sum,np.mean])\n"
     ]
    },
    {
     "data": {
      "text/html": [
       "<div>\n",
       "<style scoped>\n",
       "    .dataframe tbody tr th:only-of-type {\n",
       "        vertical-align: middle;\n",
       "    }\n",
       "\n",
       "    .dataframe tbody tr th {\n",
       "        vertical-align: top;\n",
       "    }\n",
       "\n",
       "    .dataframe thead tr th {\n",
       "        text-align: left;\n",
       "    }\n",
       "</style>\n",
       "<table border=\"1\" class=\"dataframe\">\n",
       "  <thead>\n",
       "    <tr>\n",
       "      <th></th>\n",
       "      <th>hasAnyApp</th>\n",
       "      <th colspan=\"2\" halign=\"left\">productsBought</th>\n",
       "      <th colspan=\"2\" halign=\"left\">productsSold</th>\n",
       "    </tr>\n",
       "    <tr>\n",
       "      <th></th>\n",
       "      <th></th>\n",
       "      <th>sum</th>\n",
       "      <th>mean</th>\n",
       "      <th>sum</th>\n",
       "      <th>mean</th>\n",
       "    </tr>\n",
       "  </thead>\n",
       "  <tbody>\n",
       "    <tr>\n",
       "      <th>0</th>\n",
       "      <td>False</td>\n",
       "      <td>7957</td>\n",
       "      <td>0.109391</td>\n",
       "      <td>3233</td>\n",
       "      <td>0.044447</td>\n",
       "    </tr>\n",
       "    <tr>\n",
       "      <th>1</th>\n",
       "      <td>True</td>\n",
       "      <td>9049</td>\n",
       "      <td>0.345725</td>\n",
       "      <td>8794</td>\n",
       "      <td>0.335982</td>\n",
       "    </tr>\n",
       "  </tbody>\n",
       "</table>\n",
       "</div>"
      ],
      "text/plain": [
       "  hasAnyApp productsBought           productsSold          \n",
       "                       sum      mean          sum      mean\n",
       "0     False           7957  0.109391         3233  0.044447\n",
       "1      True           9049  0.345725         8794  0.335982"
      ]
     },
     "execution_count": 6,
     "metadata": {},
     "output_type": "execute_result"
    }
   ],
   "source": [
    "df_group_two = db[['hasAnyApp','productsBought','productsSold']]\n",
    "df_group_two = df_group_two.groupby(['hasAnyApp'],as_index=False).agg([np.sum,np.mean])\n",
    "df_group_two"
   ]
  },
  {
   "cell_type": "code",
   "execution_count": 7,
   "id": "9309f993",
   "metadata": {
    "execution": {
     "iopub.execute_input": "2024-04-09T08:25:44.734629Z",
     "iopub.status.busy": "2024-04-09T08:25:44.733372Z",
     "iopub.status.idle": "2024-04-09T08:25:45.094231Z",
     "shell.execute_reply": "2024-04-09T08:25:45.092812Z"
    },
    "papermill": {
     "duration": 0.378113,
     "end_time": "2024-04-09T08:25:45.097647",
     "exception": false,
     "start_time": "2024-04-09T08:25:44.719534",
     "status": "completed"
    },
    "tags": []
   },
   "outputs": [
    {
     "data": {
      "text/plain": [
       "Text(0.5, 1.0, 'civilityTitle Bins')"
      ]
     },
     "execution_count": 7,
     "metadata": {},
     "output_type": "execute_result"
    },
    {
     "data": {
      "image/png": "[encoded data removed]",
      "text/plain": [
       "<Figure size 640x480 with 1 Axes>"
      ]
     },
     "metadata": {},
     "output_type": "display_data"
    }
   ],
   "source": [
    "%matplotlib inline\n",
    "import matplotlib as plt\n",
    "from matplotlib import pyplot\n",
    "group_names=['mrs','mr','miss']\n",
    "pyplot.bar(group_names, height=db['civilityTitle'].value_counts())\n",
    "\n",
    "# set x/y labels and plot title\n",
    "plt.pyplot.xlabel(\"civilityTitle\")\n",
    "plt.pyplot.ylabel(\"Count\")\n",
    "plt.pyplot.title(\"civilityTitle Bins\")"
   ]
  },
  {
   "cell_type": "code",
   "execution_count": 8,
   "id": "06234f6b",
   "metadata": {
    "execution": {
     "iopub.execute_input": "2024-04-09T08:25:45.123147Z",
     "iopub.status.busy": "2024-04-09T08:25:45.122671Z",
     "iopub.status.idle": "2024-04-09T08:25:45.169548Z",
     "shell.execute_reply": "2024-04-09T08:25:45.167546Z"
    },
    "papermill": {
     "duration": 0.065333,
     "end_time": "2024-04-09T08:25:45.174904",
     "exception": false,
     "start_time": "2024-04-09T08:25:45.109571",
     "status": "completed"
    },
    "tags": []
   },
   "outputs": [
    {
     "name": "stderr",
     "output_type": "stream",
     "text": [
      "/tmp/ipykernel_18/3517141676.py:2: FutureWarning: The provided callable <function sum at 0x7e30fc123520> is currently using SeriesGroupBy.sum. In a future version of pandas, the provided callable will be used directly. To keep current behavior pass the string \"sum\" instead.\n",
      "  df_group_one = df_group_one.groupby(['civilityTitle'],as_index=False).agg([np.sum,np.mean])\n",
      "/tmp/ipykernel_18/3517141676.py:2: FutureWarning: The provided callable <function mean at 0x7e30fc1504c0> is currently using SeriesGroupBy.mean. In a future version of pandas, the provided callable will be used directly. To keep current behavior pass the string \"mean\" instead.\n",
      "  df_group_one = df_group_one.groupby(['civilityTitle'],as_index=False).agg([np.sum,np.mean])\n",
      "/tmp/ipykernel_18/3517141676.py:2: FutureWarning: The provided callable <function sum at 0x7e30fc123520> is currently using SeriesGroupBy.sum. In a future version of pandas, the provided callable will be used directly. To keep current behavior pass the string \"sum\" instead.\n",
      "  df_group_one = df_group_one.groupby(['civilityTitle'],as_index=False).agg([np.sum,np.mean])\n"
     ]
    },
    {
     "data": {
      "text/html": [
       "<div>\n",
       "<style scoped>\n",
       "    .dataframe tbody tr th:only-of-type {\n",
       "        vertical-align: middle;\n",
       "    }\n",
       "\n",
       "    .dataframe tbody tr th {\n",
       "        vertical-align: top;\n",
       "    }\n",
       "\n",
       "    .dataframe thead tr th {\n",
       "        text-align: left;\n",
       "    }\n",
       "</style>\n",
       "<table border=\"1\" class=\"dataframe\">\n",
       "  <thead>\n",
       "    <tr>\n",
       "      <th></th>\n",
       "      <th>civilityTitle</th>\n",
       "      <th colspan=\"2\" halign=\"left\">productsBought</th>\n",
       "      <th colspan=\"2\" halign=\"left\">productsSold</th>\n",
       "    </tr>\n",
       "    <tr>\n",
       "      <th></th>\n",
       "      <th></th>\n",
       "      <th>sum</th>\n",
       "      <th>mean</th>\n",
       "      <th>sum</th>\n",
       "      <th>mean</th>\n",
       "    </tr>\n",
       "  </thead>\n",
       "  <tbody>\n",
       "    <tr>\n",
       "      <th>0</th>\n",
       "      <td>miss</td>\n",
       "      <td>287</td>\n",
       "      <td>0.656751</td>\n",
       "      <td>574</td>\n",
       "      <td>1.313501</td>\n",
       "    </tr>\n",
       "    <tr>\n",
       "      <th>1</th>\n",
       "      <td>mr</td>\n",
       "      <td>4262</td>\n",
       "      <td>0.186995</td>\n",
       "      <td>2673</td>\n",
       "      <td>0.117278</td>\n",
       "    </tr>\n",
       "    <tr>\n",
       "      <th>2</th>\n",
       "      <td>mrs</td>\n",
       "      <td>12457</td>\n",
       "      <td>0.164592</td>\n",
       "      <td>8780</td>\n",
       "      <td>0.116009</td>\n",
       "    </tr>\n",
       "  </tbody>\n",
       "</table>\n",
       "</div>"
      ],
      "text/plain": [
       "  civilityTitle productsBought           productsSold          \n",
       "                           sum      mean          sum      mean\n",
       "0          miss            287  0.656751          574  1.313501\n",
       "1            mr           4262  0.186995         2673  0.117278\n",
       "2           mrs          12457  0.164592         8780  0.116009"
      ]
     },
     "execution_count": 8,
     "metadata": {},
     "output_type": "execute_result"
    }
   ],
   "source": [
    "df_group_one = db[['civilityTitle','productsBought','productsSold']]\n",
    "df_group_one = df_group_one.groupby(['civilityTitle'],as_index=False).agg([np.sum,np.mean])\n",
    "df_group_one"
   ]
  },
  {
   "cell_type": "code",
   "execution_count": 9,
   "id": "b10f009f",
   "metadata": {
    "execution": {
     "iopub.execute_input": "2024-04-09T08:25:45.214673Z",
     "iopub.status.busy": "2024-04-09T08:25:45.214181Z",
     "iopub.status.idle": "2024-04-09T08:25:45.589541Z",
     "shell.execute_reply": "2024-04-09T08:25:45.588107Z"
    },
    "papermill": {
     "duration": 0.399399,
     "end_time": "2024-04-09T08:25:45.592570",
     "exception": false,
     "start_time": "2024-04-09T08:25:45.193171",
     "status": "completed"
    },
    "tags": []
   },
   "outputs": [
    {
     "data": {
      "text/plain": [
       "Text(0.5, 1.0, 'language Bins')"
      ]
     },
     "execution_count": 9,
     "metadata": {},
     "output_type": "execute_result"
    },
    {
     "data": {
      "image/png": "[encoded data removed]",
      "text/plain": [
       "<Figure size 640x480 with 1 Axes>"
      ]
     },
     "metadata": {},
     "output_type": "display_data"
    }
   ],
   "source": [
    "%matplotlib inline\n",
    "import matplotlib as plt\n",
    "from matplotlib import pyplot\n",
    "group_names=['en', 'fr', 'it', 'de', 'es']\n",
    "q=pyplot.bar(group_names, db['language'].value_counts())\n",
    "\n",
    "# set x/y labels and plot title\n",
    "plt.pyplot.xlabel(\"language using on the site\")\n",
    "plt.pyplot.ylabel(\"Count\")\n",
    "plt.pyplot.title(\"language Bins\")"
   ]
  },
  {
   "cell_type": "code",
   "execution_count": 10,
   "id": "52fec14d",
   "metadata": {
    "execution": {
     "iopub.execute_input": "2024-04-09T08:25:45.621342Z",
     "iopub.status.busy": "2024-04-09T08:25:45.620840Z",
     "iopub.status.idle": "2024-04-09T08:25:45.670435Z",
     "shell.execute_reply": "2024-04-09T08:25:45.669147Z"
    },
    "papermill": {
     "duration": 0.067353,
     "end_time": "2024-04-09T08:25:45.673103",
     "exception": false,
     "start_time": "2024-04-09T08:25:45.605750",
     "status": "completed"
    },
    "tags": []
   },
   "outputs": [
    {
     "name": "stderr",
     "output_type": "stream",
     "text": [
      "/tmp/ipykernel_18/95561689.py:2: FutureWarning: The provided callable <function sum at 0x7e30fc123520> is currently using SeriesGroupBy.sum. In a future version of pandas, the provided callable will be used directly. To keep current behavior pass the string \"sum\" instead.\n",
      "  df_group_three = df_group_three.groupby(['language'],as_index=False).agg([np.sum,np.mean])\n",
      "/tmp/ipykernel_18/95561689.py:2: FutureWarning: The provided callable <function mean at 0x7e30fc1504c0> is currently using SeriesGroupBy.mean. In a future version of pandas, the provided callable will be used directly. To keep current behavior pass the string \"mean\" instead.\n",
      "  df_group_three = df_group_three.groupby(['language'],as_index=False).agg([np.sum,np.mean])\n",
      "/tmp/ipykernel_18/95561689.py:2: FutureWarning: The provided callable <function sum at 0x7e30fc123520> is currently using SeriesGroupBy.sum. In a future version of pandas, the provided callable will be used directly. To keep current behavior pass the string \"sum\" instead.\n",
      "  df_group_three = df_group_three.groupby(['language'],as_index=False).agg([np.sum,np.mean])\n"
     ]
    },
    {
     "data": {
      "text/html": [
       "<div>\n",
       "<style scoped>\n",
       "    .dataframe tbody tr th:only-of-type {\n",
       "        vertical-align: middle;\n",
       "    }\n",
       "\n",
       "    .dataframe tbody tr th {\n",
       "        vertical-align: top;\n",
       "    }\n",
       "\n",
       "    .dataframe thead tr th {\n",
       "        text-align: left;\n",
       "    }\n",
       "</style>\n",
       "<table border=\"1\" class=\"dataframe\">\n",
       "  <thead>\n",
       "    <tr>\n",
       "      <th></th>\n",
       "      <th>language</th>\n",
       "      <th colspan=\"2\" halign=\"left\">productsBought</th>\n",
       "      <th colspan=\"2\" halign=\"left\">productsSold</th>\n",
       "    </tr>\n",
       "    <tr>\n",
       "      <th></th>\n",
       "      <th></th>\n",
       "      <th>sum</th>\n",
       "      <th>mean</th>\n",
       "      <th>sum</th>\n",
       "      <th>mean</th>\n",
       "    </tr>\n",
       "  </thead>\n",
       "  <tbody>\n",
       "    <tr>\n",
       "      <th>0</th>\n",
       "      <td>de</td>\n",
       "      <td>1705</td>\n",
       "      <td>0.237531</td>\n",
       "      <td>539</td>\n",
       "      <td>0.075091</td>\n",
       "    </tr>\n",
       "    <tr>\n",
       "      <th>1</th>\n",
       "      <td>en</td>\n",
       "      <td>8918</td>\n",
       "      <td>0.172950</td>\n",
       "      <td>4877</td>\n",
       "      <td>0.094581</td>\n",
       "    </tr>\n",
       "    <tr>\n",
       "      <th>2</th>\n",
       "      <td>es</td>\n",
       "      <td>797</td>\n",
       "      <td>0.132107</td>\n",
       "      <td>901</td>\n",
       "      <td>0.149345</td>\n",
       "    </tr>\n",
       "    <tr>\n",
       "      <th>3</th>\n",
       "      <td>fr</td>\n",
       "      <td>4386</td>\n",
       "      <td>0.166313</td>\n",
       "      <td>3004</td>\n",
       "      <td>0.113909</td>\n",
       "    </tr>\n",
       "    <tr>\n",
       "      <th>4</th>\n",
       "      <td>it</td>\n",
       "      <td>1200</td>\n",
       "      <td>0.154520</td>\n",
       "      <td>2706</td>\n",
       "      <td>0.348442</td>\n",
       "    </tr>\n",
       "  </tbody>\n",
       "</table>\n",
       "</div>"
      ],
      "text/plain": [
       "  language productsBought           productsSold          \n",
       "                      sum      mean          sum      mean\n",
       "0       de           1705  0.237531          539  0.075091\n",
       "1       en           8918  0.172950         4877  0.094581\n",
       "2       es            797  0.132107          901  0.149345\n",
       "3       fr           4386  0.166313         3004  0.113909\n",
       "4       it           1200  0.154520         2706  0.348442"
      ]
     },
     "execution_count": 10,
     "metadata": {},
     "output_type": "execute_result"
    }
   ],
   "source": [
    "df_group_three = db[['language','productsBought','productsSold']]\n",
    "df_group_three = df_group_three.groupby(['language'],as_index=False).agg([np.sum,np.mean])\n",
    "df_group_three"
   ]
  },
  {
   "cell_type": "code",
   "execution_count": 11,
   "id": "d5e4ba44",
   "metadata": {
    "execution": {
     "iopub.execute_input": "2024-04-09T08:25:45.702431Z",
     "iopub.status.busy": "2024-04-09T08:25:45.701848Z",
     "iopub.status.idle": "2024-04-09T08:25:48.216806Z",
     "shell.execute_reply": "2024-04-09T08:25:48.215316Z"
    },
    "papermill": {
     "duration": 2.533628,
     "end_time": "2024-04-09T08:25:48.219695",
     "exception": false,
     "start_time": "2024-04-09T08:25:45.686067",
     "status": "completed"
    },
    "tags": []
   },
   "outputs": [
    {
     "data": {
      "text/plain": [
       "<Axes: xlabel='language', ylabel='count'>"
      ]
     },
     "execution_count": 11,
     "metadata": {},
     "output_type": "execute_result"
    },
    {
     "data": {
      "image/png": "[encoded data removed]",
      "text/plain": [
       "<Figure size 640x480 with 1 Axes>"
      ]
     },
     "metadata": {},
     "output_type": "display_data"
    }
   ],
   "source": [
    "import seaborn as sns\n",
    "sns.countplot(x='language',data=db,hue='civilityTitle') "
   ]
  },
  {
   "cell_type": "code",
   "execution_count": 12,
   "id": "6f8a0e46",
   "metadata": {
    "execution": {
     "iopub.execute_input": "2024-04-09T08:25:48.249764Z",
     "iopub.status.busy": "2024-04-09T08:25:48.249257Z",
     "iopub.status.idle": "2024-04-09T08:25:48.282665Z",
     "shell.execute_reply": "2024-04-09T08:25:48.281346Z"
    },
    "papermill": {
     "duration": 0.05226,
     "end_time": "2024-04-09T08:25:48.285565",
     "exception": false,
     "start_time": "2024-04-09T08:25:48.233305",
     "status": "completed"
    },
    "tags": []
   },
   "outputs": [
    {
     "data": {
      "text/html": [
       "<div>\n",
       "<style scoped>\n",
       "    .dataframe tbody tr th:only-of-type {\n",
       "        vertical-align: middle;\n",
       "    }\n",
       "\n",
       "    .dataframe tbody tr th {\n",
       "        vertical-align: top;\n",
       "    }\n",
       "\n",
       "    .dataframe thead th {\n",
       "        text-align: right;\n",
       "    }\n",
       "</style>\n",
       "<table border=\"1\" class=\"dataframe\">\n",
       "  <thead>\n",
       "    <tr style=\"text-align: right;\">\n",
       "      <th></th>\n",
       "      <th>language</th>\n",
       "      <th>socialNbFollowers</th>\n",
       "      <th>socialNbFollows</th>\n",
       "      <th>socialProductsLiked</th>\n",
       "      <th>productsListed</th>\n",
       "      <th>productsSold</th>\n",
       "      <th>productsPassRate</th>\n",
       "      <th>productsWished</th>\n",
       "      <th>productsBought</th>\n",
       "      <th>civilityGenderId</th>\n",
       "      <th>hasAnyApp</th>\n",
       "      <th>hasAndroidApp</th>\n",
       "      <th>hasIosApp</th>\n",
       "      <th>hasProfilePicture</th>\n",
       "      <th>daysSinceLastLogin</th>\n",
       "      <th>seniority</th>\n",
       "      <th>seniorityAsMonths</th>\n",
       "      <th>seniorityAsYears</th>\n",
       "      <th>countryCode</th>\n",
       "    </tr>\n",
       "  </thead>\n",
       "  <tbody>\n",
       "    <tr>\n",
       "      <th>0</th>\n",
       "      <td>en</td>\n",
       "      <td>147</td>\n",
       "      <td>10</td>\n",
       "      <td>77</td>\n",
       "      <td>26</td>\n",
       "      <td>174</td>\n",
       "      <td>74.0</td>\n",
       "      <td>104</td>\n",
       "      <td>1</td>\n",
       "      <td>1</td>\n",
       "      <td>True</td>\n",
       "      <td>False</td>\n",
       "      <td>True</td>\n",
       "      <td>True</td>\n",
       "      <td>11</td>\n",
       "      <td>3196</td>\n",
       "      <td>106.53</td>\n",
       "      <td>8.88</td>\n",
       "      <td>gb</td>\n",
       "    </tr>\n",
       "    <tr>\n",
       "      <th>1</th>\n",
       "      <td>en</td>\n",
       "      <td>167</td>\n",
       "      <td>8</td>\n",
       "      <td>2</td>\n",
       "      <td>19</td>\n",
       "      <td>170</td>\n",
       "      <td>99.0</td>\n",
       "      <td>0</td>\n",
       "      <td>0</td>\n",
       "      <td>2</td>\n",
       "      <td>True</td>\n",
       "      <td>False</td>\n",
       "      <td>True</td>\n",
       "      <td>True</td>\n",
       "      <td>12</td>\n",
       "      <td>3204</td>\n",
       "      <td>106.80</td>\n",
       "      <td>8.90</td>\n",
       "      <td>mc</td>\n",
       "    </tr>\n",
       "    <tr>\n",
       "      <th>2</th>\n",
       "      <td>fr</td>\n",
       "      <td>137</td>\n",
       "      <td>13</td>\n",
       "      <td>60</td>\n",
       "      <td>33</td>\n",
       "      <td>163</td>\n",
       "      <td>94.0</td>\n",
       "      <td>10</td>\n",
       "      <td>3</td>\n",
       "      <td>2</td>\n",
       "      <td>True</td>\n",
       "      <td>False</td>\n",
       "      <td>True</td>\n",
       "      <td>False</td>\n",
       "      <td>11</td>\n",
       "      <td>3203</td>\n",
       "      <td>106.77</td>\n",
       "      <td>8.90</td>\n",
       "      <td>fr</td>\n",
       "    </tr>\n",
       "    <tr>\n",
       "      <th>3</th>\n",
       "      <td>en</td>\n",
       "      <td>131</td>\n",
       "      <td>10</td>\n",
       "      <td>14</td>\n",
       "      <td>122</td>\n",
       "      <td>152</td>\n",
       "      <td>92.0</td>\n",
       "      <td>7</td>\n",
       "      <td>0</td>\n",
       "      <td>2</td>\n",
       "      <td>True</td>\n",
       "      <td>False</td>\n",
       "      <td>True</td>\n",
       "      <td>False</td>\n",
       "      <td>12</td>\n",
       "      <td>3198</td>\n",
       "      <td>106.60</td>\n",
       "      <td>8.88</td>\n",
       "      <td>us</td>\n",
       "    </tr>\n",
       "    <tr>\n",
       "      <th>4</th>\n",
       "      <td>en</td>\n",
       "      <td>167</td>\n",
       "      <td>8</td>\n",
       "      <td>0</td>\n",
       "      <td>25</td>\n",
       "      <td>125</td>\n",
       "      <td>100.0</td>\n",
       "      <td>0</td>\n",
       "      <td>0</td>\n",
       "      <td>2</td>\n",
       "      <td>False</td>\n",
       "      <td>False</td>\n",
       "      <td>False</td>\n",
       "      <td>True</td>\n",
       "      <td>22</td>\n",
       "      <td>2854</td>\n",
       "      <td>95.13</td>\n",
       "      <td>7.93</td>\n",
       "      <td>us</td>\n",
       "    </tr>\n",
       "  </tbody>\n",
       "</table>\n",
       "</div>"
      ],
      "text/plain": [
       "  language  socialNbFollowers  socialNbFollows  socialProductsLiked  \\\n",
       "0       en                147               10                   77   \n",
       "1       en                167                8                    2   \n",
       "2       fr                137               13                   60   \n",
       "3       en                131               10                   14   \n",
       "4       en                167                8                    0   \n",
       "\n",
       "   productsListed  productsSold  productsPassRate  productsWished  \\\n",
       "0              26           174              74.0             104   \n",
       "1              19           170              99.0               0   \n",
       "2              33           163              94.0              10   \n",
       "3             122           152              92.0               7   \n",
       "4              25           125             100.0               0   \n",
       "\n",
       "   productsBought  civilityGenderId  hasAnyApp  hasAndroidApp  hasIosApp  \\\n",
       "0               1                 1       True          False       True   \n",
       "1               0                 2       True          False       True   \n",
       "2               3                 2       True          False       True   \n",
       "3               0                 2       True          False       True   \n",
       "4               0                 2      False          False      False   \n",
       "\n",
       "   hasProfilePicture  daysSinceLastLogin  seniority  seniorityAsMonths  \\\n",
       "0               True                  11       3196             106.53   \n",
       "1               True                  12       3204             106.80   \n",
       "2              False                  11       3203             106.77   \n",
       "3              False                  12       3198             106.60   \n",
       "4               True                  22       2854              95.13   \n",
       "\n",
       "   seniorityAsYears countryCode  \n",
       "0              8.88          gb  \n",
       "1              8.90          mc  \n",
       "2              8.90          fr  \n",
       "3              8.88          us  \n",
       "4              7.93          us  "
      ]
     },
     "execution_count": 12,
     "metadata": {},
     "output_type": "execute_result"
    }
   ],
   "source": [
    "repeat_columns = []\n",
    "# unused and repeated metadata are dropped\n",
    "repeat_columns += ['identifierHash', 'type','country','gender','civilityTitle']\n",
    "db1=db.drop(repeat_columns,axis=1)\n",
    "db1.head()"
   ]
  },
  {
   "cell_type": "code",
   "execution_count": 13,
   "id": "beebf4cd",
   "metadata": {
    "execution": {
     "iopub.execute_input": "2024-04-09T08:25:48.315725Z",
     "iopub.status.busy": "2024-04-09T08:25:48.315220Z",
     "iopub.status.idle": "2024-04-09T08:25:48.769772Z",
     "shell.execute_reply": "2024-04-09T08:25:48.768519Z"
    },
    "papermill": {
     "duration": 0.473197,
     "end_time": "2024-04-09T08:25:48.772930",
     "exception": false,
     "start_time": "2024-04-09T08:25:48.299733",
     "status": "completed"
    },
    "tags": []
   },
   "outputs": [
    {
     "name": "stdout",
     "output_type": "stream",
     "text": [
      "<class 'pandas.core.frame.DataFrame'>\n",
      "RangeIndex: 98913 entries, 0 to 98912\n",
      "Data columns (total 19 columns):\n",
      " #   Column                     Non-Null Count  Dtype  \n",
      "---  ------                     --------------  -----  \n",
      " 0   socialNbFollowers          98913 non-null  int64  \n",
      " 1   socialNbFollows            98913 non-null  int64  \n",
      " 2   socialProductsLiked        98913 non-null  int64  \n",
      " 3   productsListed             98913 non-null  int64  \n",
      " 4   productsSold               98913 non-null  int64  \n",
      " 5   productsPassRate           98913 non-null  float64\n",
      " 6   productsWished             98913 non-null  int64  \n",
      " 7   productsBought             98913 non-null  int64  \n",
      " 8   civilityGenderId           98913 non-null  int64  \n",
      " 9   daysSinceLastLogin         98913 non-null  int64  \n",
      " 10  seniority                  98913 non-null  int64  \n",
      " 11  seniorityAsMonths          98913 non-null  float64\n",
      " 12  seniorityAsYears           98913 non-null  float64\n",
      " 13  language_encoded           98913 non-null  float64\n",
      " 14  countryCode_encoded        98913 non-null  float64\n",
      " 15  hasAnyApp_encoded          98913 non-null  float64\n",
      " 16  hasAndroidApp_encoded      98913 non-null  float64\n",
      " 17  hasIosApp_encoded          98913 non-null  float64\n",
      " 18  hasProfilePicture_encoded  98913 non-null  float64\n",
      "dtypes: float64(9), int64(10)\n",
      "memory usage: 14.3 MB\n"
     ]
    }
   ],
   "source": [
    "from sklearn.preprocessing import OrdinalEncoder\n",
    "ordinal_encoder = OrdinalEncoder()\n",
    "\n",
    "string_columns = ['language','countryCode','hasAnyApp','hasAndroidApp','hasIosApp','hasProfilePicture']\n",
    "\n",
    "for var in string_columns:\n",
    "    var_cat = db[[var]] #use double brakets to make sure i'm taking a dataframe \n",
    "    var_cat_encoded = ordinal_encoder.fit_transform(var_cat)\n",
    "    var_cat_df = pd.DataFrame(var_cat_encoded)\n",
    "    var_cat_df.columns = [var + '_encoded'] \n",
    "    db1 = db1.merge(var_cat_df, how = 'inner', left_index = True, right_index = True)\n",
    "\n",
    "db2 = db1.drop(string_columns, axis = 1)\n",
    "db2.head()\n",
    "db2.info()"
   ]
  },
  {
   "cell_type": "code",
   "execution_count": 14,
   "id": "e71497bc",
   "metadata": {
    "execution": {
     "iopub.execute_input": "2024-04-09T08:25:48.805583Z",
     "iopub.status.busy": "2024-04-09T08:25:48.805090Z",
     "iopub.status.idle": "2024-04-09T08:25:49.728093Z",
     "shell.execute_reply": "2024-04-09T08:25:49.726290Z"
    },
    "papermill": {
     "duration": 0.943648,
     "end_time": "2024-04-09T08:25:49.731583",
     "exception": false,
     "start_time": "2024-04-09T08:25:48.787935",
     "status": "completed"
    },
    "tags": []
   },
   "outputs": [
    {
     "data": {
      "text/plain": [
       "Text(0.5, 1.0, 'Heatmap of Correlation Matrix for All Users')"
      ]
     },
     "execution_count": 14,
     "metadata": {},
     "output_type": "execute_result"
    },
    {
     "data": {
      "image/png": "[encoded data removed]",
      "text/plain": [
       "<Figure size 640x480 with 2 Axes>"
      ]
     },
     "metadata": {},
     "output_type": "display_data"
    }
   ],
   "source": [
    "import seaborn as sns\n",
    "a=sns.heatmap(db2.corr()) \n",
    "a.set_title('Heatmap of Correlation Matrix for All Users', fontsize = 20)"
   ]
  },
  {
   "cell_type": "code",
   "execution_count": 15,
   "id": "c5b6373d",
   "metadata": {
    "execution": {
     "iopub.execute_input": "2024-04-09T08:25:49.768940Z",
     "iopub.status.busy": "2024-04-09T08:25:49.768449Z",
     "iopub.status.idle": "2024-04-09T08:25:49.784200Z",
     "shell.execute_reply": "2024-04-09T08:25:49.782791Z"
    },
    "papermill": {
     "duration": 0.03775,
     "end_time": "2024-04-09T08:25:49.787411",
     "exception": false,
     "start_time": "2024-04-09T08:25:49.749661",
     "status": "completed"
    },
    "tags": []
   },
   "outputs": [],
   "source": [
    "#remove variables with no correlations\n",
    "no_columns=['seniority','seniorityAsMonths','seniorityAsYears']\n",
    "\n",
    "db3 = db2.drop(no_columns, axis = 1)"
   ]
  },
  {
   "cell_type": "code",
   "execution_count": 16,
   "id": "0f8cb039",
   "metadata": {
    "execution": {
     "iopub.execute_input": "2024-04-09T08:25:49.822989Z",
     "iopub.status.busy": "2024-04-09T08:25:49.822231Z",
     "iopub.status.idle": "2024-04-09T08:25:49.843441Z",
     "shell.execute_reply": "2024-04-09T08:25:49.841897Z"
    },
    "papermill": {
     "duration": 0.042423,
     "end_time": "2024-04-09T08:25:49.846299",
     "exception": false,
     "start_time": "2024-04-09T08:25:49.803876",
     "status": "completed"
    },
    "tags": []
   },
   "outputs": [
    {
     "name": "stdout",
     "output_type": "stream",
     "text": [
      "Original dataset before filtering (98913, 24)\n",
      "Remanining data after filtering variables with no correlations:\n",
      " (98913, 16)\n",
      "\n",
      " Final shrinking columns: \n",
      " Index(['socialNbFollowers', 'socialNbFollows', 'socialProductsLiked',\n",
      "       'productsListed', 'productsSold', 'productsPassRate', 'productsWished',\n",
      "       'productsBought', 'civilityGenderId', 'daysSinceLastLogin',\n",
      "       'language_encoded', 'countryCode_encoded', 'hasAnyApp_encoded',\n",
      "       'hasAndroidApp_encoded', 'hasIosApp_encoded',\n",
      "       'hasProfilePicture_encoded'],\n",
      "      dtype='object')\n",
      "\n",
      " Final shrinking data: \n",
      " (29674, 16)\n"
     ]
    }
   ],
   "source": [
    "print(\"Original dataset before filtering\", db.shape)\n",
    "print(\"Remanining data after filtering variables with no correlations:\\n\",db3.shape)\n",
    "db_final = db3.sample(frac = 0.3)\n",
    "print(\"\\n Final shrinking columns: \\n\",db_final.columns)\n",
    "print(\"\\n Final shrinking data: \\n\",db_final.shape)"
   ]
  },
  {
   "cell_type": "code",
   "execution_count": 17,
   "id": "b17b661b",
   "metadata": {
    "execution": {
     "iopub.execute_input": "2024-04-09T08:25:49.882362Z",
     "iopub.status.busy": "2024-04-09T08:25:49.881915Z",
     "iopub.status.idle": "2024-04-09T08:40:10.443565Z",
     "shell.execute_reply": "2024-04-09T08:40:10.442107Z"
    },
    "papermill": {
     "duration": 860.608848,
     "end_time": "2024-04-09T08:40:10.472000",
     "exception": false,
     "start_time": "2024-04-09T08:25:49.863152",
     "status": "completed"
    },
    "tags": []
   },
   "outputs": [
    {
     "data": {
      "image/png": "[encoded data removed]",
      "text/plain": [
       "<Figure size 1100x800 with 1 Axes>"
      ]
     },
     "metadata": {},
     "output_type": "display_data"
    }
   ],
   "source": [
    "import matplotlib.pyplot as plt\n",
    "import scipy.cluster.hierarchy as sch\n",
    "from sklearn.cluster import AgglomerativeClustering\n",
    "fig = plt.figure(figsize = (11, 8))\n",
    "dendogram = sch.dendrogram(sch.linkage(db_final,method = 'ward'))"
   ]
  },
  {
   "cell_type": "code",
   "execution_count": 18,
   "id": "4ba69353",
   "metadata": {
    "execution": {
     "iopub.execute_input": "2024-04-09T08:40:10.511438Z",
     "iopub.status.busy": "2024-04-09T08:40:10.510903Z",
     "iopub.status.idle": "2024-04-09T08:40:10.529457Z",
     "shell.execute_reply": "2024-04-09T08:40:10.528075Z"
    },
    "papermill": {
     "duration": 0.042768,
     "end_time": "2024-04-09T08:40:10.532532",
     "exception": false,
     "start_time": "2024-04-09T08:40:10.489764",
     "status": "completed"
    },
    "tags": []
   },
   "outputs": [],
   "source": [
    "def helper_has_fields_compared_to(df, columns, target, what, operator):\n",
    "   \n",
    "    #Helper to compare several columns to the same value.\n",
    "\n",
    "    col = columns[0]\n",
    "    if operator == '>':\n",
    "        res = (df[col] > target)\n",
    "    elif operator == '>=':\n",
    "        res = (df[col] >= target)\n",
    "    elif operator == '<=':\n",
    "        res = (df[col] <= target)\n",
    "    elif operator == '<':\n",
    "        res = (df[col] < target)\n",
    "    elif operator == '==':\n",
    "        res = (df[col] == target)\n",
    "    elif operator == '!=':\n",
    "        res = (df[col] != target)  \n",
    "    for col in columns[1:]:\n",
    "        if operator == '>':\n",
    "            tmp = (df[col] > target)\n",
    "        elif operator == '>=':\n",
    "            tmp = (df[col] >= target)\n",
    "        elif operator == '<=':\n",
    "            tmp = (df[col] <= target)\n",
    "        elif operator == '<':\n",
    "            tmp = (df[col] < target)\n",
    "        elif operator == '==':\n",
    "            tmp = (df[col] == target)\n",
    "        elif operator == '!=':\n",
    "            tmp = (df[col] != target)\n",
    "        if what == 'all':\n",
    "            res = res & tmp\n",
    "        elif what in ['any']:\n",
    "            res = res | tmp\n",
    "    return res\n",
    "\n",
    "def helper_has_any_field_greater_than(df, columns, target):\n",
    "    #Returns lines of the dataframe where any of value of the specified columns is greater than the target.\n",
    "    res = helper_has_fields_compared_to(df, columns, target, 'any', '>')\n",
    "    return res\n",
    "\n",
    "def helper_has_any_field_smaller_than(df, columns, target):\n",
    "    #Returns lines of the dataframe where any of value of the specified columns is smaller than the target.\n",
    "    \n",
    "    res = helper_has_fields_compared_to(df, columns, target, 'any', '<')\n",
    "    return res\n",
    "\n",
    "def helper_has_all_field_greater_than(df, columns, target):\n",
    "    #Returns lines of the dataframe where all of value of the specified columns is smaller than the target.\n",
    "    res = helper_has_fields_compared_to(df, columns, target, 'all', '>')\n",
    "    return res\n",
    "\n",
    "def helper_has_all_field_smaller_than(df, columns, target):\n",
    "    #Returns lines of the dataframe where all of value of the specified columns is smaller than the target.\n",
    "    res = helper_has_fields_compared_to(df, columns, target, 'all', '<')\n",
    "    return res\n",
    "\n",
    "def helper_has_all_field_equal_to(df, columns, target):\n",
    "    #Returns lines of the dataframe where all of value of the specified columns is equal to the target.\n",
    "    res = helper_has_fields_compared_to(df, columns, target, 'all', '==')\n",
    "    return res"
   ]
  },
  {
   "cell_type": "code",
   "execution_count": 19,
   "id": "0a35de72",
   "metadata": {
    "execution": {
     "iopub.execute_input": "2024-04-09T08:40:10.572437Z",
     "iopub.status.busy": "2024-04-09T08:40:10.570997Z",
     "iopub.status.idle": "2024-04-09T08:40:10.614855Z",
     "shell.execute_reply": "2024-04-09T08:40:10.613169Z"
    },
    "papermill": {
     "duration": 0.067468,
     "end_time": "2024-04-09T08:40:10.617815",
     "exception": false,
     "start_time": "2024-04-09T08:40:10.550347",
     "status": "completed"
    },
    "tags": []
   },
   "outputs": [
    {
     "name": "stdout",
     "output_type": "stream",
     "text": [
      "Actual Users: 6893 \n",
      "Actal Active Users: 4894\n",
      "Actual buyers:  5419\n",
      "Prospecting sellers:  2719\n",
      "Actual sellers:  2036\n",
      "Potential Social Users: 3679\n"
     ]
    }
   ],
   "source": [
    "Users_db = db3[helper_has_any_field_greater_than(db3,['productsSold','productsBought'],0)]\n",
    "print(f\"Actual Users: {Users_db.shape[0]} \")\n",
    "#Users_db.sample(12)\n",
    "\n",
    "# Active Actual Users with social interaction except transaction\n",
    "AActive_db = Users_db[helper_has_any_field_greater_than(Users_db,['socialProductsLiked', 'productsListed',\n",
    "       'productsPassRate', 'productsWished'], 0)]\n",
    "AActive_db.dataframeName = \"Active Actual Users\"\n",
    "print(f\"Actal Active Users: {AActive_db.shape[0]}\")\n",
    "#Active_db.sample(12)\n",
    "\n",
    "## Actual Buyers\n",
    "buyers_db = db3[db3.productsBought > 0]\n",
    "buyers_db.dataframeName = \"Buyers\"\n",
    "print(\"Actual buyers: \", buyers_db.shape[0])\n",
    "\n",
    "\n",
    "## Sellers\n",
    "sellers_db = db3[(db3.productsListed > 0) | (db3.productsSold > 0)]\n",
    "sellers_db.dataframeName = \"Prospecting Sellers\"\n",
    "print(\"Prospecting sellers: \",sellers_db.shape[0])\n",
    "\n",
    "### actual sellers (at least 1 product sold)\n",
    "successful_sellers_db = db3[db3.productsSold > 0]\n",
    "successful_sellers_db.dataframeName = \"Actual sellers\"\n",
    "print(\"Actual sellers: \", successful_sellers_db.shape[0])\n",
    "\n",
    "# Social Users with no transaction but social interaction\n",
    "#by looking at the data, we could easily conclude that \n",
    "# each new account is automatically assigned 3 followers and 8 accounts to follow\n",
    "social_db = db3[ (db3['socialNbFollowers'] != 3) | (db3['socialNbFollows'] != 8) ]\n",
    "social_db1=social_db[helper_has_all_field_smaller_than(social_db,['productsSold','productsBought'],1)]\n",
    "#Among those social users, filter only those active on products \n",
    "market_social_db = social_db1[helper_has_any_field_greater_than(social_db1, ['socialProductsLiked', 'productsListed',\n",
    "       'productsPassRate', 'productsWished'], 0)]\n",
    "print(f\"Potential Social Users: {market_social_db.shape[0]}\")\n",
    "#market_social_db.sample(12)"
   ]
  },
  {
   "cell_type": "code",
   "execution_count": 20,
   "id": "b48e8f03",
   "metadata": {
    "execution": {
     "iopub.execute_input": "2024-04-09T08:40:10.655257Z",
     "iopub.status.busy": "2024-04-09T08:40:10.654774Z",
     "iopub.status.idle": "2024-04-09T08:40:10.676201Z",
     "shell.execute_reply": "2024-04-09T08:40:10.674693Z"
    },
    "papermill": {
     "duration": 0.043586,
     "end_time": "2024-04-09T08:40:10.678706",
     "exception": false,
     "start_time": "2024-04-09T08:40:10.635120",
     "status": "completed"
    },
    "tags": []
   },
   "outputs": [
    {
     "name": "stdout",
     "output_type": "stream",
     "text": [
      "In average, buyers buy 3.14 products. Details are as follows:\n",
      "Accordingly, Successful buyers:  1277\n"
     ]
    },
    {
     "data": {
      "text/plain": [
       "count    5419.000000\n",
       "mean        3.138217\n",
       "std         9.486478\n",
       "min         1.000000\n",
       "25%         1.000000\n",
       "50%         1.000000\n",
       "75%         2.000000\n",
       "max       405.000000\n",
       "Name: productsBought, dtype: float64"
      ]
     },
     "execution_count": 20,
     "metadata": {},
     "output_type": "execute_result"
    }
   ],
   "source": [
    "print(f\"\"\"In average, buyers buy {buyers_db.productsBought.sum() / buyers_db.shape[0] :.2f} products. Details are as follows:\"\"\")\n",
    "\n",
    "#successful buyers\n",
    "Sbuyers_db = db3[db3.productsBought >= 3]\n",
    "Sbuyers_db.dataframeName = \"SBuyers\"\n",
    "print(\"Accordingly, Successful buyers: \", Sbuyers_db.shape[0])\n",
    "buyers_db.productsBought.describe()"
   ]
  },
  {
   "cell_type": "code",
   "execution_count": 21,
   "id": "e27e515d",
   "metadata": {
    "execution": {
     "iopub.execute_input": "2024-04-09T08:40:10.719593Z",
     "iopub.status.busy": "2024-04-09T08:40:10.719108Z",
     "iopub.status.idle": "2024-04-09T08:40:10.735349Z",
     "shell.execute_reply": "2024-04-09T08:40:10.733157Z"
    },
    "papermill": {
     "duration": 0.042636,
     "end_time": "2024-04-09T08:40:10.738830",
     "exception": false,
     "start_time": "2024-04-09T08:40:10.696194",
     "status": "completed"
    },
    "tags": []
   },
   "outputs": [
    {
     "data": {
      "text/plain": [
       "count    1277.000000\n",
       "mean        8.577917\n",
       "std        10.768492\n",
       "min         3.000000\n",
       "25%         4.000000\n",
       "50%         5.000000\n",
       "75%         8.000000\n",
       "max       137.000000\n",
       "Name: socialNbFollowers, dtype: float64"
      ]
     },
     "execution_count": 21,
     "metadata": {},
     "output_type": "execute_result"
    }
   ],
   "source": [
    "Sbuyers_db.socialNbFollowers.describe()"
   ]
  },
  {
   "cell_type": "code",
   "execution_count": 22,
   "id": "baa7707e",
   "metadata": {
    "execution": {
     "iopub.execute_input": "2024-04-09T08:40:10.780161Z",
     "iopub.status.busy": "2024-04-09T08:40:10.779427Z",
     "iopub.status.idle": "2024-04-09T08:40:10.799621Z",
     "shell.execute_reply": "2024-04-09T08:40:10.798133Z"
    },
    "papermill": {
     "duration": 0.043956,
     "end_time": "2024-04-09T08:40:10.802835",
     "exception": false,
     "start_time": "2024-04-09T08:40:10.758879",
     "status": "completed"
    },
    "tags": []
   },
   "outputs": [
    {
     "name": "stdout",
     "output_type": "stream",
     "text": [
      "In average, actual sellers sell 5.91 products. Details are as follows:\n",
      "Accordingly, Successful sellers:  458\n"
     ]
    },
    {
     "data": {
      "text/plain": [
       "count    2036.000000\n",
       "mean        5.907171\n",
       "std        13.626529\n",
       "min         1.000000\n",
       "25%         1.000000\n",
       "50%         2.000000\n",
       "75%         5.000000\n",
       "max       174.000000\n",
       "Name: productsSold, dtype: float64"
      ]
     },
     "execution_count": 22,
     "metadata": {},
     "output_type": "execute_result"
    }
   ],
   "source": [
    "print(f\"\"\"In average, actual sellers sell {successful_sellers_db.productsSold.sum() / successful_sellers_db.shape[0] :.2f} products. Details are as follows:\"\"\")\n",
    "#successful sellers\n",
    "Ssellers_db = db3[db3.productsSold >= 6]\n",
    "Ssellers_db.dataframeName = \"SSellers\"\n",
    "print(\"Accordingly, Successful sellers: \", Ssellers_db.shape[0])\n",
    "successful_sellers_db.productsSold.describe()"
   ]
  },
  {
   "cell_type": "code",
   "execution_count": 23,
   "id": "1f4e1f8c",
   "metadata": {
    "execution": {
     "iopub.execute_input": "2024-04-09T08:40:10.845153Z",
     "iopub.status.busy": "2024-04-09T08:40:10.843553Z",
     "iopub.status.idle": "2024-04-09T08:40:10.865641Z",
     "shell.execute_reply": "2024-04-09T08:40:10.864102Z"
    },
    "papermill": {
     "duration": 0.047854,
     "end_time": "2024-04-09T08:40:10.868955",
     "exception": false,
     "start_time": "2024-04-09T08:40:10.821101",
     "status": "completed"
    },
    "tags": []
   },
   "outputs": [
    {
     "name": "stdout",
     "output_type": "stream",
     "text": [
      "Numbers of sellers with the highest quality:  539\n",
      "Numbers of sellers with the Medium-high quality:  129\n",
      "Numbers of sellers with the stadard quality:  174\n",
      "Numbers of sellers with low quality:  1194\n"
     ]
    }
   ],
   "source": [
    "productsH_db = db3[db3.productsPassRate >= 90]\n",
    "productsH_db.dataframeName = \"Best quality's store\"\n",
    "print(\"Numbers of sellers with the highest quality: \", productsH_db.shape[0])\n",
    "\n",
    "productsMh_db = db3[(db3.productsPassRate >= 80) & (db3.productsPassRate < 90)]\n",
    "productsMh_db.dataframeName = \"medium-high quality's store\"\n",
    "print(\"Numbers of sellers with the Medium-high quality: \", productsMh_db.shape[0])\n",
    "\n",
    "productsS_db = db3[(db3.productsPassRate >= 60) &  (db3.productsPassRate < 80)]\n",
    "productsS_db.dataframeName = \"Standard qualisty's store\"\n",
    "print(\"Numbers of sellers with the stadard quality: \", productsS_db.shape[0])\n",
    "\n",
    "productsU_db = db3[(db3.productsPassRate < 60) &  (db3.productsPassRate > 0)]\n",
    "productsU_db.dataframeName = \"Unqualified store\"\n",
    "print(\"Numbers of sellers with low quality: \", productsU_db.shape[0]+\n",
    "      (successful_sellers_db.shape[0]-productsH_db.shape[0]-productsMh_db.shape[0]-productsS_db.shape[0]-productsU_db.shape[0]))"
   ]
  },
  {
   "cell_type": "code",
   "execution_count": 24,
   "id": "3a624be9",
   "metadata": {
    "execution": {
     "iopub.execute_input": "2024-04-09T08:40:10.908897Z",
     "iopub.status.busy": "2024-04-09T08:40:10.908308Z",
     "iopub.status.idle": "2024-04-09T08:40:10.926208Z",
     "shell.execute_reply": "2024-04-09T08:40:10.924570Z"
    },
    "papermill": {
     "duration": 0.043004,
     "end_time": "2024-04-09T08:40:10.929591",
     "exception": false,
     "start_time": "2024-04-09T08:40:10.886587",
     "status": "completed"
    },
    "tags": []
   },
   "outputs": [
    {
     "name": "stdout",
     "output_type": "stream",
     "text": [
      "In average, active low quality sellers sell 0.24 \n",
      "In average, active standard quality sellers sell 0.60 \n",
      "In average, active medium-high quality sellers sell 0.77 \n",
      "In average, active high quality sellers sell 2.31 products. Details are as follows:\n"
     ]
    },
    {
     "data": {
      "text/plain": [
       "count    539.000000\n",
       "mean      11.653061\n",
       "std       20.687448\n",
       "min        1.000000\n",
       "25%        2.000000\n",
       "50%        4.000000\n",
       "75%       11.000000\n",
       "max      170.000000\n",
       "Name: productsSold, dtype: float64"
      ]
     },
     "execution_count": 24,
     "metadata": {},
     "output_type": "execute_result"
    }
   ],
   "source": [
    "print(f\"\"\"In average, active low quality sellers sell {productsU_db.productsSold.sum() / sellers_db.shape[0] :.2f} \"\"\")\n",
    "print(f\"\"\"In average, active standard quality sellers sell {productsS_db.productsSold.sum() / sellers_db.shape[0] :.2f} \"\"\")\n",
    "print(f\"\"\"In average, active medium-high quality sellers sell {productsMh_db.productsSold.sum() / sellers_db.shape[0] :.2f} \"\"\")\n",
    "print(f\"\"\"In average, active high quality sellers sell {productsH_db.productsSold.sum() / sellers_db.shape[0] :.2f} products. Details are as follows:\"\"\")\n",
    "productsH_db.productsSold.describe()"
   ]
  }
 ],
 "metadata": {
  "kaggle": {
   "accelerator": "none",
   "dataSources": [
    {
     "datasetId": 430165,
     "sourceId": 7692844,
     "sourceType": "datasetVersion"
    }
   ],
   "dockerImageVersionId": 30673,
   "isGpuEnabled": false,
   "isInternetEnabled": false,
   "language": "python",
   "sourceType": "notebook"
  },
  "kernelspec": {
   "display_name": "Python 3",
   "language": "python",
   "name": "python3"
  },
  "language_info": {
   "codemirror_mode": {
    "name": "ipython",
    "version": 3
   },
   "file_extension": ".py",
   "mimetype": "text/x-python",
   "name": "python",
   "nbconvert_exporter": "python",
   "pygments_lexer": "ipython3",
   "version": "3.10.13"
  },
  "papermill": {
   "default_parameters": {},
   "duration": 875.138459,
   "end_time": "2024-04-09T08:40:13.576091",
   "environment_variables": {},
   "exception": null,
   "input_path": "__notebook__.ipynb",
   "output_path": "__notebook__.ipynb",
   "parameters": {},
   "start_time": "2024-04-09T08:25:38.437632",
   "version": "2.5.0"
  }
 },
 "nbformat": 4,
 "nbformat_minor": 5
}
